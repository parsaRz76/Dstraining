{
 "cells": [
  {
   "cell_type": "markdown",
   "id": "13cb0a11",
   "metadata": {},
   "source": [
    "# Data Science Tools and Ecosystem"
   ]
  },
  {
   "cell_type": "markdown",
   "id": "1ce05245",
   "metadata": {},
   "source": [
    "In this notebook, Data Science Tools and Ecosystem are summarized."
   ]
  },
  {
   "cell_type": "markdown",
   "id": "e8bc258d",
   "metadata": {},
   "source": [
    "***Objectives:***"
   ]
  },
  {
   "cell_type": "markdown",
   "id": "5c05876f",
   "metadata": {},
   "source": [
    "unordered list:"
   ]
  },
  {
   "cell_type": "markdown",
   "id": "dbaa524c",
   "metadata": {},
   "source": [
    "1. List popular languages for Data Science\n",
    "2. Jupyter Kernels\n",
    "3. Jupyter Architecture\n",
    "4. Anaconda Jupyter environment\n",
    "5. Cloud Based Jupyter environment"
   ]
  },
  {
   "cell_type": "markdown",
   "id": "877cca04",
   "metadata": {},
   "source": [
    "Some of the popular languages that Data Scientists use are:"
   ]
  },
  {
   "cell_type": "markdown",
   "id": "27056200",
   "metadata": {},
   "source": [
    "1.Python<br>\n",
    "2.R<br>\n",
    "3.SQL"
   ]
  },
  {
   "cell_type": "markdown",
   "id": "0558486f",
   "metadata": {},
   "source": [
    "Some of the commonly used libraries used by Data Scientists include:"
   ]
  },
  {
   "cell_type": "markdown",
   "id": "e434dc63",
   "metadata": {},
   "source": [
    "Pandas<br>\n",
    "Numpy<br>\n",
    "matplotlib<br>\n",
    "Pytorch<br>\n",
    "scikitlearn<br>"
   ]
  },
  {
   "cell_type": "markdown",
   "id": "3bb56210",
   "metadata": {},
   "source": [
    "# Data Science Tools"
   ]
  },
  {
   "cell_type": "markdown",
   "id": "04cc5b22",
   "metadata": {},
   "source": [
    "|DS Tools|\n",
    "|--------|\n",
    "|Rstudio|\n",
    "|Apache Spark|\n",
    "|Apache Hadoop|"
   ]
  },
  {
   "cell_type": "markdown",
   "id": "ef7930e8",
   "metadata": {},
   "source": [
    "### Below are a few examples of evaluating arithmetic expressions in Python"
   ]
  },
  {
   "cell_type": "code",
   "execution_count": 5,
   "id": "c7349f70",
   "metadata": {},
   "outputs": [
    {
     "data": {
      "text/plain": [
       "17"
      ]
     },
     "execution_count": 5,
     "metadata": {},
     "output_type": "execute_result"
    }
   ],
   "source": [
    "#This a simple arithmetic expression to mutiply then add integers\n",
    "(3*4)+5"
   ]
  },
  {
   "cell_type": "code",
   "execution_count": 6,
   "id": "f61befb5",
   "metadata": {},
   "outputs": [],
   "source": [
    "#This will convert 200 minutes to hours by diving by 60\n",
    "minutes = 200\n",
    "hours = minutes //60"
   ]
  },
  {
   "cell_type": "code",
   "execution_count": 7,
   "id": "ebf6b425",
   "metadata": {},
   "outputs": [
    {
     "data": {
      "text/plain": [
       "3"
      ]
     },
     "execution_count": 7,
     "metadata": {},
     "output_type": "execute_result"
    }
   ],
   "source": [
    "hours"
   ]
  },
  {
   "cell_type": "markdown",
   "id": "5936703b",
   "metadata": {},
   "source": [
    "## Author:"
   ]
  },
  {
   "cell_type": "markdown",
   "id": "10d4fbcc",
   "metadata": {},
   "source": [
    "### Parsa Rezaei"
   ]
  },
  {
   "cell_type": "code",
   "execution_count": null,
   "id": "612aa114",
   "metadata": {},
   "outputs": [],
   "source": []
  }
 ],
 "metadata": {
  "kernelspec": {
   "display_name": "Python 3 (ipykernel)",
   "language": "python",
   "name": "python3"
  },
  "language_info": {
   "codemirror_mode": {
    "name": "ipython",
    "version": 3
   },
   "file_extension": ".py",
   "mimetype": "text/x-python",
   "name": "python",
   "nbconvert_exporter": "python",
   "pygments_lexer": "ipython3",
   "version": "3.9.13"
  }
 },
 "nbformat": 4,
 "nbformat_minor": 5
}
